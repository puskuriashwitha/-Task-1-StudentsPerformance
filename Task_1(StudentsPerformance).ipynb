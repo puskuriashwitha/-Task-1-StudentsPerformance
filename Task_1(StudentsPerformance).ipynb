{
  "nbformat": 4,
  "nbformat_minor": 0,
  "metadata": {
    "colab": {
      "provenance": [],
      "authorship_tag": "ABX9TyPcreZ/A49/cQ+i2tdzv/dY",
      "include_colab_link": true
    },
    "kernelspec": {
      "name": "python3",
      "display_name": "Python 3"
    },
    "language_info": {
      "name": "python"
    }
  },
  "cells": [
    {
      "cell_type": "markdown",
      "metadata": {
        "id": "view-in-github",
        "colab_type": "text"
      },
      "source": [
        "<a href=\"https://colab.research.google.com/github/puskuriashwitha/-Task-1-StudentsPerformance/blob/main/Task_1(StudentsPerformance).ipynb\" target=\"_parent\"><img src=\"https://colab.research.google.com/assets/colab-badge.svg\" alt=\"Open In Colab\"/></a>"
      ]
    },
    {
      "cell_type": "code",
      "execution_count": 2,
      "metadata": {
        "colab": {
          "base_uri": "https://localhost:8080/",
          "height": 1000
        },
        "id": "w8fJ-4W5eNoR",
        "outputId": "a8c2ab13-c3be-4be1-f1d8-ff8f96169fa5"
      },
      "outputs": [
        {
          "output_type": "stream",
          "name": "stdout",
          "text": [
            "Shape of the dataset: (30, 5)\n",
            "\n",
            "First 5 rows:\n",
            "    Math_Score  Reading_Score  Writing_Score  Placement_Score  Club_Join_Date\n",
            "0          65             86             67               78            2021\n",
            "1          64             85             71               80            2019\n",
            "2          76             77             77               84            2021\n",
            "3          80             76             75               75            2021\n",
            "4          63             91             62               90            2019\n",
            "\n",
            "Data Types:\n",
            " Math_Score         int64\n",
            "Reading_Score      int64\n",
            "Writing_Score      int64\n",
            "Placement_Score    int64\n",
            "Club_Join_Date     int64\n",
            "dtype: object\n",
            "\n",
            "Missing values in each column:\n",
            "\n",
            "Math_Score         0\n",
            "Reading_Score      0\n",
            "Writing_Score      0\n",
            "Placement_Score    0\n",
            "Club_Join_Date     0\n",
            "dtype: int64\n",
            "\n",
            "Actual column names after loading:\n",
            "\n",
            "['Math_Score', 'Reading_Score', 'Writing_Score', 'Placement_Score', 'Club_Join_Date']\n",
            "\n",
            "Data after Label Encoding:\n",
            "    Math_Score  Reading_Score  Writing_Score  Placement_Score  Club_Join_Date\n",
            "0          65             86             67               78            2021\n",
            "1          64             85             71               80            2019\n",
            "2          76             77             77               84            2021\n",
            "3          80             76             75               75            2021\n",
            "4          63             91             62               90            2019\n",
            "\n",
            "Columns before scaling:\n",
            " ['Math_Score', 'Reading_Score', 'Writing_Score', 'Placement_Score', 'Club_Join_Date']\n",
            "\n",
            "Data after Standardizing Scores:\n",
            "    Math_Score  Reading_Score  Writing_Score  Placement_Score  Club_Join_Date\n",
            "0   -0.943099       0.402829      -0.190963               78            2021\n",
            "1   -1.129237       0.219725       0.396616               80            2019\n",
            "2    1.104419      -1.245107       1.277985               84            2021\n",
            "3    1.848971      -1.428211       0.984195               75            2021\n",
            "4   -1.315375       1.318348      -0.925437               90            2019\n"
          ]
        },
        {
          "output_type": "display_data",
          "data": {
            "text/plain": [
              "<Figure size 1000x500 with 1 Axes>"
            ],
            "image/png": "[encoded data removed]"
          },
          "metadata": {}
        },
        {
          "output_type": "stream",
          "name": "stdout",
          "text": [
            "\n",
            "Shape after removing outliers: (30, 5)\n",
            "\n",
            "Cleaned Data Info:\n",
            "<class 'pandas.core.frame.DataFrame'>\n",
            "RangeIndex: 30 entries, 0 to 29\n",
            "Data columns (total 5 columns):\n",
            " #   Column           Non-Null Count  Dtype  \n",
            "---  ------           --------------  -----  \n",
            " 0   Math_Score       30 non-null     float64\n",
            " 1   Reading_Score    30 non-null     float64\n",
            " 2   Writing_Score    30 non-null     float64\n",
            " 3   Placement_Score  30 non-null     int64  \n",
            " 4   Club_Join_Date   30 non-null     int64  \n",
            "dtypes: float64(3), int64(2)\n",
            "memory usage: 1.3 KB\n",
            "None\n",
            "\n",
            "Cleaned data saved successfully as StudentsPerformance_Cleaned.csv!\n"
          ]
        }
      ],
      "source": [
        "# 1️⃣ Import necessary libraries\n",
        "import pandas as pd\n",
        "import numpy as np\n",
        "import seaborn as sns\n",
        "import matplotlib.pyplot as plt\n",
        "from sklearn.preprocessing import LabelEncoder, StandardScaler\n",
        "\n",
        "# 2️⃣ Load the dataset\n",
        "df = pd.read_csv(\"StudentsPerformance.csv\")\n",
        "\n",
        "# 3️⃣ Check basic info\n",
        "print(\"Shape of the dataset:\", df.shape)\n",
        "print(\"\\nFirst 5 rows:\\n\", df.head())\n",
        "print(\"\\nData Types:\\n\", df.dtypes)\n",
        "\n",
        "# 4️⃣ Check for missing values\n",
        "print(\"\\nMissing values in each column:\\n\")\n",
        "print(df.isnull().sum())\n",
        "\n",
        "# 5️⃣ Print column names to confirm actual names\n",
        "print(\"\\nActual column names after loading:\\n\")\n",
        "print(df.columns.tolist())\n",
        "\n",
        "# 6️⃣ Convert categorical columns to numbers (Label Encoding)\n",
        "le = LabelEncoder()\n",
        "for col in df.select_dtypes(include='object').columns:\n",
        "    df[col] = le.fit_transform(df[col])\n",
        "\n",
        "print(\"\\nData after Label Encoding:\\n\", df.head())\n",
        "\n",
        "# 7️⃣ Standardize the numerical columns\n",
        "scaler = StandardScaler()\n",
        "\n",
        "# ✅ Correct column names based on your dataset (check your print above if needed)\n",
        "score_cols = ['Math_Score', 'Reading_Score', 'Writing_Score']\n",
        "\n",
        "# Check before scaling\n",
        "print(\"\\nColumns before scaling:\\n\", df.columns.tolist())\n",
        "\n",
        "# Apply scaling only on these columns\n",
        "df[score_cols] = scaler.fit_transform(df[score_cols])\n",
        "\n",
        "print(\"\\nData after Standardizing Scores:\\n\", df.head())\n",
        "\n",
        "# 8️⃣ Visualize outliers using boxplots\n",
        "plt.figure(figsize=(10, 5))\n",
        "sns.boxplot(data=df[score_cols])\n",
        "plt.title(\"Boxplot for Scores to Detect Outliers\")\n",
        "plt.xticks(rotation=45)\n",
        "plt.show()\n",
        "\n",
        "# 9️⃣ Remove outliers using IQR method\n",
        "def remove_outliers_iqr(dataframe, columns):\n",
        "    for col in columns:\n",
        "        Q1 = dataframe[col].quantile(0.25)\n",
        "        Q3 = dataframe[col].quantile(0.75)\n",
        "        IQR = Q3 - Q1\n",
        "        lower = Q1 - 1.5 * IQR\n",
        "        upper = Q3 + 1.5 * IQR\n",
        "        dataframe = dataframe[(dataframe[col] >= lower) & (dataframe[col] <= upper)]\n",
        "    return dataframe\n",
        "\n",
        "df_cleaned = remove_outliers_iqr(df, score_cols)\n",
        "\n",
        "print(\"\\nShape after removing outliers:\", df_cleaned.shape)\n",
        "\n",
        "# 🔟 Final check of cleaned data info\n",
        "print(\"\\nCleaned Data Info:\")\n",
        "print(df_cleaned.info())\n",
        "\n",
        "# 1️⃣1️⃣ (Optional) Save cleaned data to a new CSV\n",
        "df_cleaned.to_csv(\"StudentsPerformance_Cleaned.csv\", index=False)\n",
        "print(\"\\nCleaned data saved successfully as StudentsPerformance_Cleaned.csv!\")"
      ]
    }
  ]
}